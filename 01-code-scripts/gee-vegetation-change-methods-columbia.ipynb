{
 "cells": [
  {
   "cell_type": "markdown",
   "metadata": {},
   "source": [
    "# Google Earth Engine - Python API - Vegetation Change Methods - Case Study - Tolima Department, Columbia - 2017 Semester A Growing Season"
   ]
  },
  {
   "cell_type": "markdown",
   "metadata": {},
   "source": [
    "## Introduction\n",
    "\n",
    "This workflow implements a vegetation change detection analysis with the Google Earth Engine Python API. The workflow applies these methods to a study area in the Tolimna Department, Columbia, in the 2017 Semester A growing season, from peak green (June) to post-harvest (September)."
   ]
  },
  {
   "cell_type": "markdown",
   "metadata": {},
   "source": [
    "## Environment Setup"
   ]
  },
  {
   "cell_type": "markdown",
   "metadata": {},
   "source": [
    "This workflow uses Python 3.8 and requires the following packages:\n",
    "\n",
    "* *ee*\n",
    "* *geemap*\n",
    "* *vegetation_change*\n",
    "\n",
    "The *ee* and *geemap* packages are available from [Conda-Forge](https://conda-forge.org/). The *vegetation_change* package (from *vegetation_change.py*) provides custom functions that implement Google Earth Engine functionality for the benefit of this analysis. The Conda environment provided with this analysis (contained in *environment.yml*) includes all packages needed from Conda-Forge. The custom script is provided in the same folder as this Jupyter Notebook."
   ]
  },
  {
   "cell_type": "code",
   "execution_count": 1,
   "metadata": {},
   "outputs": [],
   "source": [
    "# Import packages\n",
    "import ee\n",
    "import geemap as gm\n",
    "import vegetation_change as vc"
   ]
  },
  {
   "cell_type": "markdown",
   "metadata": {},
   "source": [
    "The workflow authenticates to Google Earth Engine with an active account and then initializes the Google Earth Engine library (if the authentication succeeds)."
   ]
  },
  {
   "cell_type": "code",
   "execution_count": 2,
   "metadata": {},
   "outputs": [],
   "source": [
    "# Initialze GEE Python API; authenticate if necessary\n",
    "try:\n",
    "    ee.Initialize()\n",
    "    \n",
    "except Exception as error:\n",
    "    ee.Authenticate()\n",
    "    ee.Initialize()"
   ]
  },
  {
   "cell_type": "markdown",
   "metadata": {},
   "source": [
    "The workflow defines the user name and public folder for accessing the study area features within and exporting the results of the analysis to Google Earth Engine Assets. The import of the study area features step must use these variables, unless a user has exported them to another location prior to the analysis. The export of the results may omit this path and use a path specific user who executes the workflow."
   ]
  },
  {
   "cell_type": "code",
   "execution_count": 3,
   "metadata": {},
   "outputs": [],
   "source": [
    "# Define output folder (GEE username + folder location)\n",
    "gee_username = \"calekochenour\"\n",
    "gee_asset_folder = \"vegetation-change\" "
   ]
  },
  {
   "cell_type": "markdown",
   "metadata": {},
   "source": [
    "## Data Preparation"
   ]
  },
  {
   "cell_type": "markdown",
   "metadata": {},
   "source": [
    "The workflow imports the study area boundary and study area canals, each as individual `ee.FeatureCollection` object."
   ]
  },
  {
   "cell_type": "code",
   "execution_count": 4,
   "metadata": {},
   "outputs": [],
   "source": [
    "# Create FeatureCollections for study area\n",
    "study_area_boundary = ee.FeatureCollection(\n",
    "    f'users/{gee_username}/{gee_asset_folder}/drtt_study_area_boundary')\n",
    "\n",
    "study_area_canals = ee.FeatureCollection(\n",
    "    f'users/{gee_username}/{gee_asset_folder}/drtt_study_area_canals')"
   ]
  },
  {
   "cell_type": "markdown",
   "metadata": {},
   "source": [
    "The workflow loads two Landsat 8 images, June 2, 2017 (peak green) and September 6, 2017 (post-harvest) as `ee.Image` objects and and clips each image to the study area boundary. Then the workflow creates an `ee.ImageCollection` object that contains the two images."
   ]
  },
  {
   "cell_type": "code",
   "execution_count": 5,
   "metadata": {},
   "outputs": [],
   "source": [
    "# Load and clip imagery for 2017 Semester A growing season\n",
    "peak_green = ee.Image(\n",
    "    'LANDSAT/LC08/C01/T1_SR/LC08_008057_20170602').clip(study_area_boundary)\n",
    "\n",
    "post_harvest = ee.Image(\n",
    "    'LANDSAT/LC08/C01/T1_SR/LC08_008057_20170906').clip(study_area_boundary)\n",
    "\n",
    "# Create ImageCollection for Peak Green and Post-Harvest\n",
    "collection = ee.ImageCollection([peak_green, post_harvest])"
   ]
  },
  {
   "cell_type": "markdown",
   "metadata": {},
   "source": [
    "## Data Processing"
   ]
  },
  {
   "cell_type": "markdown",
   "metadata": {},
   "source": [
    "The workflow uses a custom function from the `vegetation_change.py` script, `ndvi_diff_landsat8()` to:\n",
    "\n",
    "* Mask each image in the `ee.ImageCOllection` for clouds and cloud shadows;\n",
    "* Compute and add the normalized difference vegetation index (NDVI) band to each image in the `ee.ImageCOllection`;\n",
    "* Convert the `ee.ImageCOllection` to an `ee.List` object;\n",
    "* Subtract the peak green NDVI band from the post-harvest NDVI band; and,\n",
    "* Return the NDVI difference (post-harvest NDVI - peak green NDVI)."
   ]
  },
  {
   "cell_type": "code",
   "execution_count": 6,
   "metadata": {},
   "outputs": [],
   "source": [
    "# Compute NDVI difference raster for Peak Green to Post-Harvest\n",
    "ndvi_diff = vc.ndvi_diff_landsat8(collection, 1, 0)"
   ]
  },
  {
   "cell_type": "markdown",
   "metadata": {},
   "source": [
    "The workflow defines two threshold ranges for NDVI change, -2.0 to -0.5 for the primary change (largest change) and -0.5 to -0.35 for secondary change (large, but less large). The workflow refined these thresholds based on the specific imagery used in this study area, during the time period analyzed. "
   ]
  },
  {
   "cell_type": "code",
   "execution_count": 7,
   "metadata": {},
   "outputs": [],
   "source": [
    "# Define NDVI thresholds for classification;\n",
    "#  indices 0/1 identify min/max for primary class;\n",
    "#  indices 2/3 identify min/max for secondary class\n",
    "ndvi_change_thresholds = [-2.0, -0.5, -0.5, -0.35]"
   ]
  },
  {
   "cell_type": "markdown",
   "metadata": {},
   "source": [
    "The workflow uses a custom function from the `vegetation_change.py` script, `segment_snic()` to:\n",
    "\n",
    "* Segment the NDVI difference image;\n",
    "* Classify the image based on the define NDVI thresholds;\n",
    "* Extract classified features (primary and secondary NDVI difference ranges); and,\n",
    "* Return the extracted features as `ee.Image` objects stored in a dictionary."
   ]
  },
  {
   "cell_type": "code",
   "execution_count": 8,
   "metadata": {},
   "outputs": [],
   "source": [
    "# Segment, classify, and extract features\n",
    "change_features = vc.segment_snic(\n",
    "    ndvi_diff, study_area_boundary, ndvi_change_thresholds)"
   ]
  },
  {
   "cell_type": "markdown",
   "metadata": {},
   "source": [
    "The workflow uses a custom function from the `vegetation_change.py` script, `raster_to_vector()` to:\n",
    "\n",
    "* Convert the classified extracted features (in `ee.Image` format) to `ee.FeatureCollection` objects; and,\n",
    "* Return the vectorized version of the extracted features."
   ]
  },
  {
   "cell_type": "code",
   "execution_count": 9,
   "metadata": {},
   "outputs": [],
   "source": [
    "# Convert rasters to vectors\n",
    "change_primary_vector = vc.raster_to_vector(\n",
    "    change_features.get('primary'), study_area_boundary)\n",
    "\n",
    "change_secondary_vector = vc.raster_to_vector(\n",
    "    change_features.get('secondary'), study_area_boundary)"
   ]
  },
  {
   "cell_type": "markdown",
   "metadata": {},
   "source": [
    "## Data Export"
   ]
  },
  {
   "cell_type": "markdown",
   "metadata": {},
   "source": [
    "The workflow defines output folder locations, within a valid Google Earth Engine Assets folder and uses a custom function from the `vegetation_change.py` script, `export_vector()` to export the vectorized extracted features to the defined Assets folder. \n",
    "\n",
    "A user must change the `gee_username` variable to the user name used to authenticate to to Google Earth Engine at the beginning of this workflow in order for the export to succeed. The user must also change the `gee_asset_folder` to a valid Assets folder within the user account. A user may change the name of the output files, `vegetation_change_primary` and `vegetation_change_secondary`.\n",
    "\n",
    "The workflow implements a check for the existence of the file path and output file names prior to exporting and skips the export if a file with the specified file name already exists."
   ]
  },
  {
   "cell_type": "code",
   "execution_count": 10,
   "metadata": {},
   "outputs": [
    {
     "name": "stdout",
     "output_type": "stream",
     "text": [
      "GEE Asset ID 'users/calekochenour/vegetation-change/vegetation_change_primary' already exists. Skipping export...\n",
      "GEE Asset ID 'users/calekochenour/vegetation-change/vegetation_change_secondary' already exists. Skipping export...\n"
     ]
    }
   ],
   "source": [
    "# Define output GEE Asset names\n",
    "change_primary_asset_name = f'users/{gee_username}/{gee_asset_folder}/vegetation_change_primary'\n",
    "change_secondary_asset_name = f'users/{gee_username}/{gee_asset_folder}/vegetation_change_secondary'\n",
    "\n",
    "# Check if GEE Asset already exists prior to export; primary change\n",
    "if (change_primary_asset := ee.FeatureCollection(change_primary_asset_name)):\n",
    "\n",
    "    # Skip export\n",
    "    print(\n",
    "        f\"GEE Asset ID '{change_primary_asset_name}' already exists. Skipping export...\")\n",
    "\n",
    "else:\n",
    "    # Export vectors to GEE Asset\n",
    "    change_primary_export = vc.export_vector(\n",
    "        vector=change_primary_vector,\n",
    "        description='Primary Change',\n",
    "        output_name=change_primary_asset_name,\n",
    "        output_method='asset')\n",
    "\n",
    "# Check if GEE Asset already exists prior to export; secondary change\n",
    "if (change_secondary_asset := ee.FeatureCollection(change_secondary_asset_name)):\n",
    "\n",
    "    # Skip export\n",
    "    print(\n",
    "        f\"GEE Asset ID '{change_secondary_asset_name}' already exists. Skipping export...\")\n",
    "\n",
    "else:\n",
    "    # Export vectors to GEE Asset\n",
    "    change_secondary_export = vc.export_vector(\n",
    "        vector=change_secondary_vector,\n",
    "        description='Secondary Change',\n",
    "        output_name=change_secondary_asset_name,\n",
    "        output_method='asset')"
   ]
  },
  {
   "cell_type": "markdown",
   "metadata": {},
   "source": [
    "## Data Visualization"
   ]
  },
  {
   "cell_type": "markdown",
   "metadata": {},
   "source": [
    "The workflow uses a function from the `geemap` package, `Map()`, to create an interactive map for displaying layers in the analysis. \n",
    "\n",
    "The workflow uses the a function from the `geemap` package, `addLayer()`, to add all layers from the analysis to the interactive map, to include:\n",
    "\n",
    "* Study area vector files;\n",
    "* Pre and post-change imagery (RGB and CIR); \n",
    "* NDVI difference image;\n",
    "* Classified clusters (rasters); \n",
    "* Classified clusters (vectors) from the raster to vector conversion; and,\n",
    "* Classified clusters (vectors) imported from the Google Earth Engine Assets which the workflow exported during the Data Export step. \n",
    "\n",
    "The workflow defines the display of each layers with visualization parameters, some with single colors (vector layers, classified/extracted features), and others with pre-defined visualization parameters, to include imagery (RGB and CIR) and NDVI difference (continuous and discrete color ramps). "
   ]
  },
  {
   "cell_type": "code",
   "execution_count": 11,
   "metadata": {
    "scrolled": false
   },
   "outputs": [],
   "source": [
    "# Create map for visualization\n",
    "change_map = gm.Map()\n",
    "change_map.setOptions('SATELLITE')\n",
    "\n",
    "# Center map to study area\n",
    "change_map.setCenter(-75.0978, 3.7722, 12)\n",
    "\n",
    "# Add pre-change and post-change images to map, RGB and CIR\n",
    "change_map.addLayer(\n",
    "    peak_green,\n",
    "    vc.vis_params_rgb,\n",
    "    'Landsat 8 - RGB - 2017 - Semester A - Peak Green - Pre-Change')\n",
    "\n",
    "change_map.addLayer(\n",
    "    post_harvest,\n",
    "    vc.vis_params_rgb,\n",
    "    'Landsat 8 - RGB - 2017 - Semester A - Post Harvest - Post-Change')\n",
    "\n",
    "change_map.addLayer(\n",
    "    peak_green,\n",
    "    vc.vis_params_cir,\n",
    "    'Landsat 8 - CIR - 2017 - Semester A - Peak Green - Pre-Change')\n",
    "\n",
    "change_map.addLayer(\n",
    "    post_harvest,\n",
    "    vc.vis_params_cir,\n",
    "    'Landsat 8 - CIR - 2017 - Semester A - Post Harvest - Post-Change')\n",
    "\n",
    "# Add NDVI difference to map, both uncategorized and categorized with SLD\n",
    "change_map.addLayer(\n",
    "    ndvi_diff,\n",
    "    vc.vis_params_ndvi_diff,\n",
    "    \"NDVI Difference - Continuous - 2017 - Semester A - Peak Green to Post-Harvest - Pre to Post-Change\")\n",
    "\n",
    "change_map.addLayer(\n",
    "    ndvi_diff.sldStyle(vc.vis_params_ndvi_sld),\n",
    "    {},\n",
    "    'NDVI Difference - 5 Intervals/Categories - 2017 - Semester A - Peak Green to Post-Harvest - Pre to Post-Change')\n",
    "\n",
    "# Add classified/extracted rasters (primary and secondary)\n",
    "change_map.addLayer(\n",
    "    change_features.get('primary'),\n",
    "    {'palette': ['green']},\n",
    "    \"Classified Clusters - Raster - Primary Change - 2017 Semester A - Peak Green to Post-Harvest - Pre to Post-Change\")\n",
    "\n",
    "change_map.addLayer(\n",
    "    change_features.get('secondary'),\n",
    "    {'palette': ['lightgreen']},\n",
    "    \"Classified Clusters - Raster - Secondary Change - 2017 Semester A - Peak Green to Post-Harvest - Pre to Post-Change\")\n",
    "\n",
    "# Add classified/extracted vectors (from workflow internal)\n",
    "change_map.addLayer(\n",
    "    change_primary_vector,\n",
    "    {'color': 'green'},\n",
    "    \"Classified Clusters - Vector - Primary Change - 2017 Semester A - Peak Green to Post-Harvest - Pre to Post-Change\")\n",
    "\n",
    "change_map.addLayer(\n",
    "    change_secondary_vector,\n",
    "    {'color': 'lightgreen'},\n",
    "    \"Classified Clusters - Vector - Secondary Change - 2017 Semester A - Peak Green to Post-Harvest - Pre to Post-Change\")\n",
    "\n",
    "# Add classified/extracted vectors (from workflow GEE Asset export)\n",
    "change_map.addLayer(\n",
    "    change_primary_asset,\n",
    "    {'color': 'green'},\n",
    "    \"Classified Clusters - GEE Asset - Primary Change - 2017 Semester A - Peak Green to Post-Harvest - Pre to Post-Change\")\n",
    "\n",
    "change_map.addLayer(\n",
    "    change_secondary_asset,\n",
    "    {'color': 'lightgreen'},\n",
    "    \"Classified Clusters - GEE Asset - Secondary Change - 2017 Semester A - Peak Green to Post-Harvest - Pre to Post-Change\")\n",
    "\n",
    "# Add study area boundary and canals to map\n",
    "empty = ee.Image().byte()\n",
    "\n",
    "study_area_boundary_vis = empty.paint(\n",
    "    featureCollection=study_area_boundary, color=1, width=3)\n",
    "\n",
    "study_area_canals_vis = empty.paint(\n",
    "    featureCollection=study_area_canals, color=1, width=3)\n",
    "\n",
    "change_map.addLayer(\n",
    "    study_area_boundary_vis,\n",
    "    {'palette': 'FF0000'},\n",
    "    'Study Area - Boundary')\n",
    "\n",
    "change_map.addLayer(\n",
    "    study_area_canals_vis,\n",
    "    {'palette': 'blue'},\n",
    "    'Study Area - Canals')"
   ]
  },
  {
   "cell_type": "markdown",
   "metadata": {},
   "source": [
    "The workflow displays the interative map that contains all layers used in the analysis, to include:\n",
    "\n",
    "* Study area vector files;\n",
    "* Pre and post-change imagery (RGB and CIR); \n",
    "* NDVI difference image;\n",
    "* Classified clusters (rasters); \n",
    "* Classified clusters (vectors) from the raster to vector conversion; and,\n",
    "* Classified clusters (vectors) imported from the Google Earth Engine Assets which the workflow exported during the Data Export step.  "
   ]
  },
  {
   "cell_type": "code",
   "execution_count": 12,
   "metadata": {
    "scrolled": false
   },
   "outputs": [
    {
     "data": {
      "application/vnd.jupyter.widget-view+json": {
       "model_id": "b054137b4fea4289819bbef7ecb3d853",
       "version_major": 2,
       "version_minor": 0
      },
      "text/plain": [
       "Map(center=[3.7722, -75.0978], controls=(ZoomControl(options=['position', 'zoom_in_text', 'zoom_in_title', 'zo…"
      ]
     },
     "metadata": {},
     "output_type": "display_data"
    }
   ],
   "source": [
    "# Display map\n",
    "change_map"
   ]
  },
  {
   "cell_type": "code",
   "execution_count": null,
   "metadata": {},
   "outputs": [],
   "source": []
  }
 ],
 "metadata": {
  "kernelspec": {
   "display_name": "Python 3",
   "language": "python",
   "name": "python3"
  },
  "language_info": {
   "codemirror_mode": {
    "name": "ipython",
    "version": 3
   },
   "file_extension": ".py",
   "mimetype": "text/x-python",
   "name": "python",
   "nbconvert_exporter": "python",
   "pygments_lexer": "ipython3",
   "version": "3.8.2"
  },
  "toc": {
   "base_numbering": 1,
   "nav_menu": {},
   "number_sections": true,
   "sideBar": true,
   "skip_h1_title": false,
   "title_cell": "Table of Contents",
   "title_sidebar": "Contents",
   "toc_cell": false,
   "toc_position": {},
   "toc_section_display": true,
   "toc_window_display": false
  }
 },
 "nbformat": 4,
 "nbformat_minor": 4
}
